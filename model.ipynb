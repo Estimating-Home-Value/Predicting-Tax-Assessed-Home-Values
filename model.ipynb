{
 "cells": [
  {
   "cell_type": "markdown",
   "metadata": {},
   "source": [
    "# Predicting Tax Valuation"
   ]
  },
  {
   "cell_type": "code",
   "execution_count": 1,
   "metadata": {},
   "outputs": [],
   "source": [
    "import pandas as pd\n",
    "import numpy as np\n",
    "import matplotlib.pyplot as plt\n",
    "import seaborn as sns\n",
    "import math\n",
    "\n",
    "from statsmodels.formula.api import ols\n",
    "from sklearn.model_selection import train_test_split\n",
    "from sklearn.metrics import mean_squared_error, explained_variance_score, r2_score\n",
    "from sklearn.feature_selection import SelectKBest, f_regression, RFE\n",
    "from sklearn.linear_model import LinearRegression, LassoLars\n",
    "from sklearn.preprocessing import PolynomialFeatures\n",
    "\n",
    "import warnings\n",
    "warnings.filterwarnings('ignore')\n",
    "\n",
    "import os\n",
    "import env, acquire, prepare, features"
   ]
  },
  {
   "cell_type": "markdown",
   "metadata": {},
   "source": [
    "## Visualizing Tax Rate Distribution\n",
    "We begin by using our `acquire_cache_tax_data()` function to create a dataframe consisting of the tax rate for every record of interest. We are limiting our records to only those that meet the following requirements:\n",
    "- Transaction Date between 2017-05-01 and 2017-06-30\n",
    "- Property classified as one of the following Types:\n",
    "    - Single Family Residential\n",
    "    - Rural Residence\n",
    "    - Mobile Home\n",
    "    - Townhouse\n",
    "    - Condominium\n",
    "    - Row House\n",
    "    - Bungalow\n",
    "    - Manufactured, Modular, Prefabricated Homes\n",
    "    - Patio Home\n",
    "    - Inferred Single Family Residence\n",
    "\n",
    "Tax rate is determined by the following formula:\n",
    "\n",
    "    Tax Paid / Tax Value * 100 (rounded to 2 digits)"
   ]
  },
  {
   "cell_type": "code",
   "execution_count": 2,
   "metadata": {},
   "outputs": [],
   "source": [
    "tax = acquire.acquire_cache_tax_data()"
   ]
  },
  {
   "cell_type": "code",
   "execution_count": 3,
   "metadata": {},
   "outputs": [
    {
     "data": {
      "text/html": [
       "<div>\n",
       "<style scoped>\n",
       "    .dataframe tbody tr th:only-of-type {\n",
       "        vertical-align: middle;\n",
       "    }\n",
       "\n",
       "    .dataframe tbody tr th {\n",
       "        vertical-align: top;\n",
       "    }\n",
       "\n",
       "    .dataframe thead th {\n",
       "        text-align: right;\n",
       "    }\n",
       "</style>\n",
       "<table border=\"1\" class=\"dataframe\">\n",
       "  <thead>\n",
       "    <tr style=\"text-align: right;\">\n",
       "      <th></th>\n",
       "      <th>taxrate</th>\n",
       "      <th>County</th>\n",
       "    </tr>\n",
       "  </thead>\n",
       "  <tbody>\n",
       "    <tr>\n",
       "      <th>0</th>\n",
       "      <td>1.70</td>\n",
       "      <td>Los Angeles</td>\n",
       "    </tr>\n",
       "    <tr>\n",
       "      <th>1</th>\n",
       "      <td>1.53</td>\n",
       "      <td>Los Angeles</td>\n",
       "    </tr>\n",
       "    <tr>\n",
       "      <th>2</th>\n",
       "      <td>1.12</td>\n",
       "      <td>Orange</td>\n",
       "    </tr>\n",
       "    <tr>\n",
       "      <th>3</th>\n",
       "      <td>1.25</td>\n",
       "      <td>Los Angeles</td>\n",
       "    </tr>\n",
       "    <tr>\n",
       "      <th>4</th>\n",
       "      <td>1.19</td>\n",
       "      <td>Los Angeles</td>\n",
       "    </tr>\n",
       "  </tbody>\n",
       "</table>\n",
       "</div>"
      ],
      "text/plain": [
       "   taxrate       County\n",
       "0     1.70  Los Angeles\n",
       "1     1.53  Los Angeles\n",
       "2     1.12       Orange\n",
       "3     1.25  Los Angeles\n",
       "4     1.19  Los Angeles"
      ]
     },
     "execution_count": 3,
     "metadata": {},
     "output_type": "execute_result"
    }
   ],
   "source": [
    "tax.head()"
   ]
  },
  {
   "cell_type": "markdown",
   "metadata": {},
   "source": [
    "We split the dataframe into smaller ones representing each county"
   ]
  },
  {
   "cell_type": "code",
   "execution_count": 4,
   "metadata": {},
   "outputs": [],
   "source": [
    "los_angeles_taxrate = tax[tax.County == 'Los Angeles'].taxrate\n",
    "orange_taxrate = tax[tax.County == 'Orange'].taxrate\n",
    "ventura_taxrate = tax[tax.County == 'Ventura'].taxrate"
   ]
  },
  {
   "cell_type": "markdown",
   "metadata": {},
   "source": [
    "An initial histogram shows the following:\n",
    "- The majority of the records are in Los Angeles county\n",
    "- There is significant positive skew present in at least one of the counties, demonstrated by the large x-axis range\n",
    "- The majority of the tax rates fall below 5%"
   ]
  },
  {
   "cell_type": "code",
   "execution_count": 5,
   "metadata": {},
   "outputs": [
    {
     "data": {
      "image/png": "[encoded data removed]",
      "text/plain": [
       "<Figure size 432x288 with 1 Axes>"
      ]
     },
     "metadata": {
      "needs_background": "light"
     },
     "output_type": "display_data"
    }
   ],
   "source": [
    "plt.hist(los_angeles_taxrate)\n",
    "plt.hist(orange_taxrate)\n",
    "plt.hist(ventura_taxrate)\n",
    "plt.show()"
   ]
  },
  {
   "cell_type": "markdown",
   "metadata": {},
   "source": [
    "Descriptive statistics of each county support our visual analysis. "
   ]
  },
  {
   "cell_type": "code",
   "execution_count": 15,
   "metadata": {},
   "outputs": [
    {
     "name": "stdout",
     "output_type": "stream",
     "text": [
      "count    12807.000000\n",
      "mean         1.380155\n",
      "std          0.672991\n",
      "min          0.110000\n",
      "25%          1.210000\n",
      "50%          1.250000\n",
      "75%          1.390000\n",
      "max         45.290000\n",
      "Name: taxrate, dtype: float64\n",
      "\n",
      "\n",
      "count    5845.000000\n",
      "mean        1.205100\n",
      "std         0.292402\n",
      "min         0.010000\n",
      "25%         1.050000\n",
      "50%         1.150000\n",
      "75%         1.260000\n",
      "max        10.740000\n",
      "Name: taxrate, dtype: float64\n",
      "\n",
      "\n",
      "count    1711.000000\n",
      "mean        1.212215\n",
      "std         0.743119\n",
      "min         0.080000\n",
      "25%         1.070000\n",
      "50%         1.120000\n",
      "75%         1.190000\n",
      "max        29.490000\n",
      "Name: taxrate, dtype: float64\n"
     ]
    }
   ],
   "source": [
    "print(los_angeles_taxrate.describe())\n",
    "print('\\n')\n",
    "print(orange_taxrate.describe())\n",
    "print('\\n')\n",
    "print(ventura_taxrate.describe())"
   ]
  },
  {
   "cell_type": "markdown",
   "metadata": {},
   "source": [
    "We create more meaningful visualizations of the distribution in each county\n",
    "- Increase the number of bins\n",
    "- Trim the x-axis to focus only on the region with the vast majority of observations\n",
    "- Visualizing the mean and median for each region"
   ]
  },
  {
   "cell_type": "code",
   "execution_count": 17,
   "metadata": {},
   "outputs": [
    {
     "data": {
      "image/png": "[encoded data removed]",
      "text/plain": [
       "<Figure size 2160x2160 with 3 Axes>"
      ]
     },
     "metadata": {
      "needs_background": "light"
     },
     "output_type": "display_data"
    }
   ],
   "source": [
    "plt.rcParams.update({'font.size': 42}) # Sets global characteristics for font size\n",
    "\n",
    "plt.figure(figsize=(30,30))\n",
    "plt.subplot(3,1,1) # \n",
    "plt.hist(los_angeles_taxrate, bins = 1000, color = 'lightblue')\n",
    "plt.xlim(0.8, 2.5) # Cropping range of x-axis\n",
    "plt.ylim(0, 4200)\n",
    "plt.title('Los Angeles County Tax Rates')\n",
    "plt.ylabel('Count')\n",
    "plt.xlabel('Tax Rate (%)')\n",
    "min_ylim, max_ylim = plt.ylim()\n",
    "plt.axvline(los_angeles_taxrate.mean(), color='k', linestyle='dashed', linewidth=8) # Creating visualization line for mean tax rate\n",
    "plt.text(los_angeles_taxrate.mean()*1.01, max_ylim*0.9, 'Mean: {:.3f}'.format(los_angeles_taxrate.mean())) # Creating annotation for mean tax rate line\n",
    "plt.axvline(los_angeles_taxrate.median(), color='gray', linestyle='dashed', linewidth=8) # Creating visualization line for median tax rate\n",
    "plt.text(los_angeles_taxrate.median()*.78, max_ylim*0.9, 'Median: {:.3f}'.format(los_angeles_taxrate.median())) # Creating annotation for median tax rate line \n",
    "\n",
    "plt.subplot(3,1,2)\n",
    "plt.hist(orange_taxrate, bins = 1000, color = 'orange', alpha = 0.7)\n",
    "plt.xlim(0.8, 2.5)\n",
    "plt.ylim(0, 500)\n",
    "plt.title('Orange County Tax Rates')\n",
    "plt.ylabel('Count')\n",
    "plt.xlabel('Tax Rate (%)')\n",
    "min_ylim, max_ylim = plt.ylim()\n",
    "plt.axvline(orange_taxrate.mean(), color='k', linestyle='dashed', linewidth=8)\n",
    "plt.text(orange_taxrate.mean()*1.01, max_ylim*0.9, 'Mean: {:.3f}'.format(orange_taxrate.mean()))\n",
    "plt.axvline(orange_taxrate.median(), color='gray', linestyle='dashed', linewidth=8)\n",
    "plt.text(orange_taxrate.median()*.76, max_ylim*0.9, 'Median: {:.3f}'.format(orange_taxrate.median()))\n",
    "\n",
    "plt.subplot(3,1,3)\n",
    "plt.hist(ventura_taxrate, bins = 1000, color = 'lightgreen')\n",
    "plt.xlim(0.8, 2.5)\n",
    "plt.ylim(0, 400)\n",
    "plt.title('Ventura County Tax Rates')\n",
    "plt.ylabel('Count')\n",
    "plt.xlabel('Tax Rate (%)')\n",
    "min_ylim, max_ylim = plt.ylim()\n",
    "plt.axvline(ventura_taxrate.mean(), color='k', linestyle='dashed', linewidth=8)\n",
    "plt.text(ventura_taxrate.mean()*1.01, max_ylim*0.9, 'Mean: {:.3f}'.format(ventura_taxrate.mean()))\n",
    "plt.axvline(ventura_taxrate.median(), color='gray', linestyle='dashed', linewidth=8)\n",
    "plt.text(ventura_taxrate.median()*.75, max_ylim*0.9, 'Median: {:.3f}'.format(ventura_taxrate.median()))\n",
    "\n",
    "plt.tight_layout() # Reduces overlap of labels\n",
    "# Uncomment the line below to save a .png of the visualization\n",
    "# plt.savefig('county_tax_rates')\n",
    "plt.show()"
   ]
  },
  {
   "cell_type": "markdown",
   "metadata": {},
   "source": [
    "### Key Takeaways\n",
    "- Mean tax rate is about 15% higher in Los Angeles county than in Orange or Venutra counties\n",
    "- Orange county has the least positive skew, demonstrated by the smallest difference between the median and mean\n",
    "- Los Angeles county has the most positive skew, demonstrated by the larger difference between the median and mean\n",
    "- Given the large range of tax rates, most tax rates fall between 1 and 2 percent"
   ]
  },
  {
   "cell_type": "markdown",
   "metadata": {},
   "source": [
    "## Data Acquisition for Model\n",
    "Our initial model consists of three features:\n",
    "- `calculatedfinishedsquarefeet`\n",
    "- `bathroomcnt`\n",
    "- `bedroomcnt`\n",
    "\n",
    "And one target variable:\n",
    "- `taxvaluedollarcnt`"
   ]
  },
  {
   "cell_type": "code",
   "execution_count": 18,
   "metadata": {},
   "outputs": [
    {
     "data": {
      "text/html": [
       "<div>\n",
       "<style scoped>\n",
       "    .dataframe tbody tr th:only-of-type {\n",
       "        vertical-align: middle;\n",
       "    }\n",
       "\n",
       "    .dataframe tbody tr th {\n",
       "        vertical-align: top;\n",
       "    }\n",
       "\n",
       "    .dataframe thead th {\n",
       "        text-align: right;\n",
       "    }\n",
       "</style>\n",
       "<table border=\"1\" class=\"dataframe\">\n",
       "  <thead>\n",
       "    <tr style=\"text-align: right;\">\n",
       "      <th></th>\n",
       "      <th>calculatedfinishedsquarefeet</th>\n",
       "      <th>bathroomcnt</th>\n",
       "      <th>bedroomcnt</th>\n",
       "      <th>taxvaluedollarcnt</th>\n",
       "    </tr>\n",
       "  </thead>\n",
       "  <tbody>\n",
       "    <tr>\n",
       "      <th>0</th>\n",
       "      <td>1458.0</td>\n",
       "      <td>2.0</td>\n",
       "      <td>3.0</td>\n",
       "      <td>136104.0</td>\n",
       "    </tr>\n",
       "    <tr>\n",
       "      <th>1</th>\n",
       "      <td>1421.0</td>\n",
       "      <td>1.0</td>\n",
       "      <td>2.0</td>\n",
       "      <td>35606.0</td>\n",
       "    </tr>\n",
       "    <tr>\n",
       "      <th>2</th>\n",
       "      <td>2541.0</td>\n",
       "      <td>3.0</td>\n",
       "      <td>4.0</td>\n",
       "      <td>880456.0</td>\n",
       "    </tr>\n",
       "    <tr>\n",
       "      <th>3</th>\n",
       "      <td>1650.0</td>\n",
       "      <td>2.0</td>\n",
       "      <td>3.0</td>\n",
       "      <td>614000.0</td>\n",
       "    </tr>\n",
       "    <tr>\n",
       "      <th>4</th>\n",
       "      <td>693.0</td>\n",
       "      <td>1.0</td>\n",
       "      <td>2.0</td>\n",
       "      <td>274237.0</td>\n",
       "    </tr>\n",
       "  </tbody>\n",
       "</table>\n",
       "</div>"
      ],
      "text/plain": [
       "   calculatedfinishedsquarefeet  bathroomcnt  bedroomcnt  taxvaluedollarcnt\n",
       "0                        1458.0          2.0         3.0           136104.0\n",
       "1                        1421.0          1.0         2.0            35606.0\n",
       "2                        2541.0          3.0         4.0           880456.0\n",
       "3                        1650.0          2.0         3.0           614000.0\n",
       "4                         693.0          1.0         2.0           274237.0"
      ]
     },
     "execution_count": 18,
     "metadata": {},
     "output_type": "execute_result"
    }
   ],
   "source": [
    "df = acquire.acquire_cache_data()\n",
    "df.head()"
   ]
  },
  {
   "cell_type": "markdown",
   "metadata": {},
   "source": [
    "## Data Preparation\n",
    "We begin by summarizing the data using the following functions:\n",
    "- `df.info()`\n",
    "- `df.describe()`\n",
    "- `df.dtypes()`"
   ]
  },
  {
   "cell_type": "code",
   "execution_count": 19,
   "metadata": {},
   "outputs": [
    {
     "name": "stdout",
     "output_type": "stream",
     "text": [
      "<class 'pandas.core.frame.DataFrame'>\n",
      "RangeIndex: 20364 entries, 0 to 20363\n",
      "Data columns (total 4 columns):\n",
      " #   Column                        Non-Null Count  Dtype  \n",
      "---  ------                        --------------  -----  \n",
      " 0   calculatedfinishedsquarefeet  20318 non-null  float64\n",
      " 1   bathroomcnt                   20364 non-null  float64\n",
      " 2   bedroomcnt                    20364 non-null  float64\n",
      " 3   taxvaluedollarcnt             20364 non-null  float64\n",
      "dtypes: float64(4)\n",
      "memory usage: 636.5 KB\n"
     ]
    }
   ],
   "source": [
    "df.info()"
   ]
  },
  {
   "cell_type": "code",
   "execution_count": 20,
   "metadata": {},
   "outputs": [
    {
     "data": {
      "text/html": [
       "<div>\n",
       "<style scoped>\n",
       "    .dataframe tbody tr th:only-of-type {\n",
       "        vertical-align: middle;\n",
       "    }\n",
       "\n",
       "    .dataframe tbody tr th {\n",
       "        vertical-align: top;\n",
       "    }\n",
       "\n",
       "    .dataframe thead th {\n",
       "        text-align: right;\n",
       "    }\n",
       "</style>\n",
       "<table border=\"1\" class=\"dataframe\">\n",
       "  <thead>\n",
       "    <tr style=\"text-align: right;\">\n",
       "      <th></th>\n",
       "      <th>calculatedfinishedsquarefeet</th>\n",
       "      <th>bathroomcnt</th>\n",
       "      <th>bedroomcnt</th>\n",
       "      <th>taxvaluedollarcnt</th>\n",
       "    </tr>\n",
       "  </thead>\n",
       "  <tbody>\n",
       "    <tr>\n",
       "      <th>count</th>\n",
       "      <td>20318.000000</td>\n",
       "      <td>20364.000000</td>\n",
       "      <td>20364.000000</td>\n",
       "      <td>2.036400e+04</td>\n",
       "    </tr>\n",
       "    <tr>\n",
       "      <th>mean</th>\n",
       "      <td>1776.493208</td>\n",
       "      <td>2.284694</td>\n",
       "      <td>3.019839</td>\n",
       "      <td>5.054039e+05</td>\n",
       "    </tr>\n",
       "    <tr>\n",
       "      <th>std</th>\n",
       "      <td>936.606498</td>\n",
       "      <td>0.958072</td>\n",
       "      <td>1.030974</td>\n",
       "      <td>6.584038e+05</td>\n",
       "    </tr>\n",
       "    <tr>\n",
       "      <th>min</th>\n",
       "      <td>242.000000</td>\n",
       "      <td>0.000000</td>\n",
       "      <td>0.000000</td>\n",
       "      <td>1.050400e+04</td>\n",
       "    </tr>\n",
       "    <tr>\n",
       "      <th>25%</th>\n",
       "      <td>1176.000000</td>\n",
       "      <td>2.000000</td>\n",
       "      <td>2.000000</td>\n",
       "      <td>2.104808e+05</td>\n",
       "    </tr>\n",
       "    <tr>\n",
       "      <th>50%</th>\n",
       "      <td>1536.000000</td>\n",
       "      <td>2.000000</td>\n",
       "      <td>3.000000</td>\n",
       "      <td>3.665045e+05</td>\n",
       "    </tr>\n",
       "    <tr>\n",
       "      <th>75%</th>\n",
       "      <td>2102.000000</td>\n",
       "      <td>3.000000</td>\n",
       "      <td>4.000000</td>\n",
       "      <td>5.890250e+05</td>\n",
       "    </tr>\n",
       "    <tr>\n",
       "      <th>max</th>\n",
       "      <td>15450.000000</td>\n",
       "      <td>11.000000</td>\n",
       "      <td>12.000000</td>\n",
       "      <td>2.385837e+07</td>\n",
       "    </tr>\n",
       "  </tbody>\n",
       "</table>\n",
       "</div>"
      ],
      "text/plain": [
       "       calculatedfinishedsquarefeet   bathroomcnt    bedroomcnt  \\\n",
       "count                  20318.000000  20364.000000  20364.000000   \n",
       "mean                    1776.493208      2.284694      3.019839   \n",
       "std                      936.606498      0.958072      1.030974   \n",
       "min                      242.000000      0.000000      0.000000   \n",
       "25%                     1176.000000      2.000000      2.000000   \n",
       "50%                     1536.000000      2.000000      3.000000   \n",
       "75%                     2102.000000      3.000000      4.000000   \n",
       "max                    15450.000000     11.000000     12.000000   \n",
       "\n",
       "       taxvaluedollarcnt  \n",
       "count       2.036400e+04  \n",
       "mean        5.054039e+05  \n",
       "std         6.584038e+05  \n",
       "min         1.050400e+04  \n",
       "25%         2.104808e+05  \n",
       "50%         3.665045e+05  \n",
       "75%         5.890250e+05  \n",
       "max         2.385837e+07  "
      ]
     },
     "execution_count": 20,
     "metadata": {},
     "output_type": "execute_result"
    }
   ],
   "source": [
    "df.describe()"
   ]
  },
  {
   "cell_type": "code",
   "execution_count": 21,
   "metadata": {},
   "outputs": [
    {
     "data": {
      "text/plain": [
       "calculatedfinishedsquarefeet    float64\n",
       "bathroomcnt                     float64\n",
       "bedroomcnt                      float64\n",
       "taxvaluedollarcnt               float64\n",
       "dtype: object"
      ]
     },
     "execution_count": 21,
     "metadata": {},
     "output_type": "execute_result"
    }
   ],
   "source": [
    "df.dtypes"
   ]
  },
  {
   "cell_type": "markdown",
   "metadata": {},
   "source": [
    "### Address Missing Values\n",
    "- There are 46 null values in the `calculatedfinishedsquarefeet` feature\n",
    "- There are 70 observations with `bathroomcnt` equal to 0\n",
    "- There are 136 observations with `bedroomcnt` equal to 0 "
   ]
  },
  {
   "cell_type": "code",
   "execution_count": 23,
   "metadata": {},
   "outputs": [
    {
     "data": {
      "text/plain": [
       "46"
      ]
     },
     "execution_count": 23,
     "metadata": {},
     "output_type": "execute_result"
    }
   ],
   "source": [
    "df.calculatedfinishedsquarefeet.isnull().sum()"
   ]
  },
  {
   "cell_type": "code",
   "execution_count": 22,
   "metadata": {},
   "outputs": [
    {
     "data": {
      "text/plain": [
       "(70, 4)"
      ]
     },
     "execution_count": 22,
     "metadata": {},
     "output_type": "execute_result"
    }
   ],
   "source": [
    "df[df.bathroomcnt == 0].shape"
   ]
  },
  {
   "cell_type": "code",
   "execution_count": 24,
   "metadata": {},
   "outputs": [
    {
     "data": {
      "text/plain": [
       "(136, 4)"
      ]
     },
     "execution_count": 24,
     "metadata": {},
     "output_type": "execute_result"
    }
   ],
   "source": [
    "df[df.bedroomcnt == 0].shape"
   ]
  },
  {
   "cell_type": "markdown",
   "metadata": {},
   "source": [
    "#### We will drop all observations with 0 or NaN values"
   ]
  },
  {
   "cell_type": "code",
   "execution_count": 25,
   "metadata": {},
   "outputs": [
    {
     "name": "stdout",
     "output_type": "stream",
     "text": [
      "<class 'pandas.core.frame.DataFrame'>\n",
      "Int64Index: 20223 entries, 0 to 20363\n",
      "Data columns (total 4 columns):\n",
      " #   Column                        Non-Null Count  Dtype  \n",
      "---  ------                        --------------  -----  \n",
      " 0   calculatedfinishedsquarefeet  20223 non-null  float64\n",
      " 1   bathroomcnt                   20223 non-null  float64\n",
      " 2   bedroomcnt                    20223 non-null  float64\n",
      " 3   taxvaluedollarcnt             20223 non-null  float64\n",
      "dtypes: float64(4)\n",
      "memory usage: 790.0 KB\n"
     ]
    }
   ],
   "source": [
    "mask_bathr = (df.bathroomcnt == 0) # Creates a boolean mask of True where bathroom count == 0\n",
    "mask_bedr = (df.bedroomcnt == 0) # Creates a boolean mask of True where bedroom count == 0\n",
    "mask_sf = df.calculatedfinishedsquarefeet.isnull() # Creates a boolean mask of True where there is a null value\n",
    "\n",
    "mask = mask_bathr | mask_bedr | mask_sf # Creates a boolean mask based on any of the individual masks being true (| is an OR operator)\n",
    "mask.sum()\n",
    "\n",
    "df = df[-mask] # Creates a dataframe for all values that are not True in the boolean mask\n",
    "df.info()"
   ]
  },
  {
   "cell_type": "code",
   "execution_count": 26,
   "metadata": {},
   "outputs": [
    {
     "data": {
      "text/plain": [
       "(0, 0, 0)"
      ]
     },
     "execution_count": 26,
     "metadata": {},
     "output_type": "execute_result"
    }
   ],
   "source": [
    "# Double check to make sure the code removed all the missing values.\n",
    "\n",
    "bathr_missing = df[df.bathroomcnt == 0].shape[0]\n",
    "bedr_missing = df[df.bedroomcnt == 0].shape[0]\n",
    "sf_missing = df.calculatedfinishedsquarefeet.isnull().sum()\n",
    "\n",
    "bathr_missing, bedr_missing, sf_missing"
   ]
  },
  {
   "cell_type": "markdown",
   "metadata": {},
   "source": [
    "### Address Duplicates\n",
    "- There are 58 duplicated observations\n",
    "- These duplicates may be from \"back-to-back\" closing between three parties on the same transaction date. These additional observations are not meaningful and will add noise to our model. \n",
    "- We will drop these duplicates. "
   ]
  },
  {
   "cell_type": "code",
   "execution_count": 27,
   "metadata": {},
   "outputs": [
    {
     "data": {
      "text/plain": [
       "58"
      ]
     },
     "execution_count": 27,
     "metadata": {},
     "output_type": "execute_result"
    }
   ],
   "source": [
    "df.duplicated().sum()"
   ]
  },
  {
   "cell_type": "code",
   "execution_count": 28,
   "metadata": {},
   "outputs": [
    {
     "name": "stdout",
     "output_type": "stream",
     "text": [
      "<class 'pandas.core.frame.DataFrame'>\n",
      "RangeIndex: 20165 entries, 0 to 20164\n",
      "Data columns (total 4 columns):\n",
      " #   Column                        Non-Null Count  Dtype  \n",
      "---  ------                        --------------  -----  \n",
      " 0   calculatedfinishedsquarefeet  20165 non-null  float64\n",
      " 1   bathroomcnt                   20165 non-null  float64\n",
      " 2   bedroomcnt                    20165 non-null  float64\n",
      " 3   taxvaluedollarcnt             20165 non-null  float64\n",
      "dtypes: float64(4)\n",
      "memory usage: 630.3 KB\n"
     ]
    }
   ],
   "source": [
    "df = df.drop_duplicates(keep='first', ignore_index=True)\n",
    "df.info()"
   ]
  },
  {
   "cell_type": "code",
   "execution_count": 29,
   "metadata": {},
   "outputs": [
    {
     "data": {
      "text/html": [
       "<div>\n",
       "<style scoped>\n",
       "    .dataframe tbody tr th:only-of-type {\n",
       "        vertical-align: middle;\n",
       "    }\n",
       "\n",
       "    .dataframe tbody tr th {\n",
       "        vertical-align: top;\n",
       "    }\n",
       "\n",
       "    .dataframe thead th {\n",
       "        text-align: right;\n",
       "    }\n",
       "</style>\n",
       "<table border=\"1\" class=\"dataframe\">\n",
       "  <thead>\n",
       "    <tr style=\"text-align: right;\">\n",
       "      <th></th>\n",
       "      <th>calculatedfinishedsquarefeet</th>\n",
       "      <th>bathroomcnt</th>\n",
       "      <th>bedroomcnt</th>\n",
       "      <th>taxvaluedollarcnt</th>\n",
       "    </tr>\n",
       "  </thead>\n",
       "  <tbody>\n",
       "    <tr>\n",
       "      <th>count</th>\n",
       "      <td>20165.000000</td>\n",
       "      <td>20165.000000</td>\n",
       "      <td>20165.000000</td>\n",
       "      <td>2.016500e+04</td>\n",
       "    </tr>\n",
       "    <tr>\n",
       "      <th>mean</th>\n",
       "      <td>1780.902108</td>\n",
       "      <td>2.297595</td>\n",
       "      <td>3.041706</td>\n",
       "      <td>5.047822e+05</td>\n",
       "    </tr>\n",
       "    <tr>\n",
       "      <th>std</th>\n",
       "      <td>932.715302</td>\n",
       "      <td>0.948802</td>\n",
       "      <td>0.999601</td>\n",
       "      <td>6.554203e+05</td>\n",
       "    </tr>\n",
       "    <tr>\n",
       "      <th>min</th>\n",
       "      <td>242.000000</td>\n",
       "      <td>1.000000</td>\n",
       "      <td>1.000000</td>\n",
       "      <td>1.050400e+04</td>\n",
       "    </tr>\n",
       "    <tr>\n",
       "      <th>25%</th>\n",
       "      <td>1179.000000</td>\n",
       "      <td>2.000000</td>\n",
       "      <td>2.000000</td>\n",
       "      <td>2.107920e+05</td>\n",
       "    </tr>\n",
       "    <tr>\n",
       "      <th>50%</th>\n",
       "      <td>1540.000000</td>\n",
       "      <td>2.000000</td>\n",
       "      <td>3.000000</td>\n",
       "      <td>3.674520e+05</td>\n",
       "    </tr>\n",
       "    <tr>\n",
       "      <th>75%</th>\n",
       "      <td>2107.000000</td>\n",
       "      <td>3.000000</td>\n",
       "      <td>4.000000</td>\n",
       "      <td>5.900000e+05</td>\n",
       "    </tr>\n",
       "    <tr>\n",
       "      <th>max</th>\n",
       "      <td>15450.000000</td>\n",
       "      <td>11.000000</td>\n",
       "      <td>12.000000</td>\n",
       "      <td>2.385837e+07</td>\n",
       "    </tr>\n",
       "  </tbody>\n",
       "</table>\n",
       "</div>"
      ],
      "text/plain": [
       "       calculatedfinishedsquarefeet   bathroomcnt    bedroomcnt  \\\n",
       "count                  20165.000000  20165.000000  20165.000000   \n",
       "mean                    1780.902108      2.297595      3.041706   \n",
       "std                      932.715302      0.948802      0.999601   \n",
       "min                      242.000000      1.000000      1.000000   \n",
       "25%                     1179.000000      2.000000      2.000000   \n",
       "50%                     1540.000000      2.000000      3.000000   \n",
       "75%                     2107.000000      3.000000      4.000000   \n",
       "max                    15450.000000     11.000000     12.000000   \n",
       "\n",
       "       taxvaluedollarcnt  \n",
       "count       2.016500e+04  \n",
       "mean        5.047822e+05  \n",
       "std         6.554203e+05  \n",
       "min         1.050400e+04  \n",
       "25%         2.107920e+05  \n",
       "50%         3.674520e+05  \n",
       "75%         5.900000e+05  \n",
       "max         2.385837e+07  "
      ]
     },
     "execution_count": 29,
     "metadata": {},
     "output_type": "execute_result"
    }
   ],
   "source": [
    "df.describe()"
   ]
  },
  {
   "cell_type": "markdown",
   "metadata": {},
   "source": [
    "## Visualization of Variables"
   ]
  },
  {
   "cell_type": "markdown",
   "metadata": {},
   "source": [
    "#### Looking at the target variable\n",
    "- Similar to the tax rate distributions explored earlier, the tax valuations are clustered below a median of $367,452 and are positively skewed by large valuations to the right"
   ]
  },
  {
   "cell_type": "code",
   "execution_count": 30,
   "metadata": {},
   "outputs": [
    {
     "data": {
      "text/plain": [
       "<matplotlib.axes._subplots.AxesSubplot at 0x7fbc9ce6efd0>"
      ]
     },
     "execution_count": 30,
     "metadata": {},
     "output_type": "execute_result"
    },
    {
     "data": {
      "image/png": "[encoded data removed]",
      "text/plain": [
       "<Figure size 936x504 with 1 Axes>"
      ]
     },
     "metadata": {
      "needs_background": "light"
     },
     "output_type": "display_data"
    }
   ],
   "source": [
    "plt.rc('font',size=13)\n",
    "plt.rc('figure', figsize=(13,7))\n",
    "\n",
    "# Plot the distribution of the target variable: taxvaluedollarcnt\n",
    "\n",
    "df.taxvaluedollarcnt.hist()"
   ]
  },
  {
   "cell_type": "markdown",
   "metadata": {},
   "source": [
    "#### Looking at a pairplot of our variables"
   ]
  },
  {
   "cell_type": "code",
   "execution_count": 35,
   "metadata": {},
   "outputs": [
    {
     "data": {
      "text/plain": [
       "<seaborn.axisgrid.PairGrid at 0x7fbc9da91550>"
      ]
     },
     "execution_count": 35,
     "metadata": {},
     "output_type": "execute_result"
    },
    {
     "data": {
      "image/png": "[encoded data removed]",
      "text/plain": [
       "<Figure size 720x720 with 20 Axes>"
      ]
     },
     "metadata": {
      "needs_background": "light"
     },
     "output_type": "display_data"
    }
   ],
   "source": [
    "g = sns.PairGrid(df)\n",
    "# we can specify any two functions we want for visualization\n",
    "g.map_diag(plt.hist) # single variable\n",
    "g.map_offdiag(sns.regplot, scatter_kws={\"color\": \"dodgerblue\"}, line_kws={\"color\": \"orange\"}) # interaction of two variables"
   ]
  },
  {
   "cell_type": "markdown",
   "metadata": {},
   "source": [
    "#### Takeaways:\n",
    "- There appears to be a positive correlation between all variables (risk for multicollinearity in our model)\n",
    "- Distribution of all variables appears to be positively skewed\n",
    "- Outliers in the `taxvaluedollarcnt` tend to sit above the regression lines for the independent variables rather than below. "
   ]
  },
  {
   "cell_type": "markdown",
   "metadata": {},
   "source": [
    "#### Looking at a box-plot of our variables"
   ]
  },
  {
   "cell_type": "code",
   "execution_count": 36,
   "metadata": {},
   "outputs": [
    {
     "data": {
      "text/plain": [
       "<matplotlib.axes._subplots.AxesSubplot at 0x7fbc9fd43450>"
      ]
     },
     "execution_count": 36,
     "metadata": {},
     "output_type": "execute_result"
    },
    {
     "data": {
      "image/png": "[encoded data removed]",
      "text/plain": [
       "<Figure size 936x504 with 4 Axes>"
      ]
     },
     "metadata": {
      "needs_background": "light"
     },
     "output_type": "display_data"
    }
   ],
   "source": [
    "plt.subplot(221)\n",
    "sns.boxplot(df.calculatedfinishedsquarefeet)\n",
    "\n",
    "plt.subplot(222)\n",
    "sns.boxplot(df.bathroomcnt)\n",
    "\n",
    "plt.subplot(223)\n",
    "sns.boxplot(df.bedroomcnt)\n",
    "\n",
    "plt.subplot(224)\n",
    "sns.boxplot(df.taxvaluedollarcnt)"
   ]
  },
  {
   "cell_type": "markdown",
   "metadata": {},
   "source": [
    "#### Takeaways:\n",
    "- For both `calculatedfinishedsquarefeet` and `taxvaluedollarcnt` both show a large number of observations above the interquartile range. "
   ]
  },
  {
   "cell_type": "markdown",
   "metadata": {},
   "source": [
    "### Splitting and Scaling The Data\n",
    "- We will use our `prep_zillow()` function to split and scale the data\n",
    "- `prep_zillow()` will divide the dataframe in to train, validate and test dataframes\n",
    "- It will then fit a min-max scaler to the train dataframe, and apply that scaler to all three dataframes"
   ]
  },
  {
   "cell_type": "code",
   "execution_count": 37,
   "metadata": {},
   "outputs": [
    {
     "data": {
      "text/html": [
       "<div>\n",
       "<style scoped>\n",
       "    .dataframe tbody tr th:only-of-type {\n",
       "        vertical-align: middle;\n",
       "    }\n",
       "\n",
       "    .dataframe tbody tr th {\n",
       "        vertical-align: top;\n",
       "    }\n",
       "\n",
       "    .dataframe thead th {\n",
       "        text-align: right;\n",
       "    }\n",
       "</style>\n",
       "<table border=\"1\" class=\"dataframe\">\n",
       "  <thead>\n",
       "    <tr style=\"text-align: right;\">\n",
       "      <th></th>\n",
       "      <th>calculatedfinishedsquarefeet</th>\n",
       "      <th>bathroomcnt</th>\n",
       "      <th>bedroomcnt</th>\n",
       "      <th>taxvaluedollarcnt</th>\n",
       "    </tr>\n",
       "  </thead>\n",
       "  <tbody>\n",
       "    <tr>\n",
       "      <th>0</th>\n",
       "      <td>1458.0</td>\n",
       "      <td>2.0</td>\n",
       "      <td>3.0</td>\n",
       "      <td>136104.0</td>\n",
       "    </tr>\n",
       "    <tr>\n",
       "      <th>1</th>\n",
       "      <td>1421.0</td>\n",
       "      <td>1.0</td>\n",
       "      <td>2.0</td>\n",
       "      <td>35606.0</td>\n",
       "    </tr>\n",
       "    <tr>\n",
       "      <th>2</th>\n",
       "      <td>2541.0</td>\n",
       "      <td>3.0</td>\n",
       "      <td>4.0</td>\n",
       "      <td>880456.0</td>\n",
       "    </tr>\n",
       "    <tr>\n",
       "      <th>3</th>\n",
       "      <td>1650.0</td>\n",
       "      <td>2.0</td>\n",
       "      <td>3.0</td>\n",
       "      <td>614000.0</td>\n",
       "    </tr>\n",
       "    <tr>\n",
       "      <th>4</th>\n",
       "      <td>693.0</td>\n",
       "      <td>1.0</td>\n",
       "      <td>2.0</td>\n",
       "      <td>274237.0</td>\n",
       "    </tr>\n",
       "  </tbody>\n",
       "</table>\n",
       "</div>"
      ],
      "text/plain": [
       "   calculatedfinishedsquarefeet  bathroomcnt  bedroomcnt  taxvaluedollarcnt\n",
       "0                        1458.0          2.0         3.0           136104.0\n",
       "1                        1421.0          1.0         2.0            35606.0\n",
       "2                        2541.0          3.0         4.0           880456.0\n",
       "3                        1650.0          2.0         3.0           614000.0\n",
       "4                         693.0          1.0         2.0           274237.0"
      ]
     },
     "execution_count": 37,
     "metadata": {},
     "output_type": "execute_result"
    }
   ],
   "source": [
    "df.head()"
   ]
  },
  {
   "cell_type": "code",
   "execution_count": 44,
   "metadata": {},
   "outputs": [
    {
     "name": "stdout",
     "output_type": "stream",
     "text": [
      "<class 'pandas.core.frame.DataFrame'>\n",
      "RangeIndex: 20165 entries, 0 to 20164\n",
      "Data columns (total 4 columns):\n",
      " #   Column                        Non-Null Count  Dtype  \n",
      "---  ------                        --------------  -----  \n",
      " 0   calculatedfinishedsquarefeet  20165 non-null  float64\n",
      " 1   bathroomcnt                   20165 non-null  float64\n",
      " 2   bedroomcnt                    20165 non-null  float64\n",
      " 3   taxvaluedollarcnt             20165 non-null  float64\n",
      "dtypes: float64(4)\n",
      "memory usage: 630.3 KB\n"
     ]
    }
   ],
   "source": [
    "df.info()"
   ]
  },
  {
   "cell_type": "code",
   "execution_count": 45,
   "metadata": {},
   "outputs": [
    {
     "data": {
      "text/html": [
       "<div>\n",
       "<style scoped>\n",
       "    .dataframe tbody tr th:only-of-type {\n",
       "        vertical-align: middle;\n",
       "    }\n",
       "\n",
       "    .dataframe tbody tr th {\n",
       "        vertical-align: top;\n",
       "    }\n",
       "\n",
       "    .dataframe thead th {\n",
       "        text-align: right;\n",
       "    }\n",
       "</style>\n",
       "<table border=\"1\" class=\"dataframe\">\n",
       "  <thead>\n",
       "    <tr style=\"text-align: right;\">\n",
       "      <th></th>\n",
       "      <th>calculatedfinishedsquarefeet</th>\n",
       "      <th>bathroomcnt</th>\n",
       "      <th>bedroomcnt</th>\n",
       "      <th>taxvaluedollarcnt</th>\n",
       "    </tr>\n",
       "  </thead>\n",
       "  <tbody>\n",
       "    <tr>\n",
       "      <th>16476</th>\n",
       "      <td>0.114492</td>\n",
       "      <td>0.111111</td>\n",
       "      <td>0.222222</td>\n",
       "      <td>0.017615</td>\n",
       "    </tr>\n",
       "    <tr>\n",
       "      <th>17919</th>\n",
       "      <td>0.126276</td>\n",
       "      <td>0.111111</td>\n",
       "      <td>0.222222</td>\n",
       "      <td>0.009729</td>\n",
       "    </tr>\n",
       "    <tr>\n",
       "      <th>3622</th>\n",
       "      <td>0.124049</td>\n",
       "      <td>0.111111</td>\n",
       "      <td>0.222222</td>\n",
       "      <td>0.006993</td>\n",
       "    </tr>\n",
       "    <tr>\n",
       "      <th>16863</th>\n",
       "      <td>0.112822</td>\n",
       "      <td>0.166667</td>\n",
       "      <td>0.111111</td>\n",
       "      <td>0.009475</td>\n",
       "    </tr>\n",
       "    <tr>\n",
       "      <th>15808</th>\n",
       "      <td>0.194470</td>\n",
       "      <td>0.222222</td>\n",
       "      <td>0.333333</td>\n",
       "      <td>0.012272</td>\n",
       "    </tr>\n",
       "  </tbody>\n",
       "</table>\n",
       "</div>"
      ],
      "text/plain": [
       "       calculatedfinishedsquarefeet  bathroomcnt  bedroomcnt  \\\n",
       "16476                      0.114492     0.111111    0.222222   \n",
       "17919                      0.126276     0.111111    0.222222   \n",
       "3622                       0.124049     0.111111    0.222222   \n",
       "16863                      0.112822     0.166667    0.111111   \n",
       "15808                      0.194470     0.222222    0.333333   \n",
       "\n",
       "       taxvaluedollarcnt  \n",
       "16476           0.017615  \n",
       "17919           0.009729  \n",
       "3622            0.006993  \n",
       "16863           0.009475  \n",
       "15808           0.012272  "
      ]
     },
     "execution_count": 45,
     "metadata": {},
     "output_type": "execute_result"
    }
   ],
   "source": [
    "train_scaled, validate_scaled, test_scaled = prepare.prep_zillow(df) #prep_zillow() function\n",
    "train_scaled.head()"
   ]
  },
  {
   "cell_type": "code",
   "execution_count": 46,
   "metadata": {},
   "outputs": [
    {
     "data": {
      "text/html": [
       "<div>\n",
       "<style scoped>\n",
       "    .dataframe tbody tr th:only-of-type {\n",
       "        vertical-align: middle;\n",
       "    }\n",
       "\n",
       "    .dataframe tbody tr th {\n",
       "        vertical-align: top;\n",
       "    }\n",
       "\n",
       "    .dataframe thead th {\n",
       "        text-align: right;\n",
       "    }\n",
       "</style>\n",
       "<table border=\"1\" class=\"dataframe\">\n",
       "  <thead>\n",
       "    <tr style=\"text-align: right;\">\n",
       "      <th></th>\n",
       "      <th>calculatedfinishedsquarefeet</th>\n",
       "      <th>bathroomcnt</th>\n",
       "      <th>bedroomcnt</th>\n",
       "      <th>taxvaluedollarcnt</th>\n",
       "    </tr>\n",
       "  </thead>\n",
       "  <tbody>\n",
       "    <tr>\n",
       "      <th>13876</th>\n",
       "      <td>0.261459</td>\n",
       "      <td>0.388889</td>\n",
       "      <td>0.333333</td>\n",
       "      <td>0.020078</td>\n",
       "    </tr>\n",
       "    <tr>\n",
       "      <th>6471</th>\n",
       "      <td>0.134348</td>\n",
       "      <td>0.111111</td>\n",
       "      <td>0.333333</td>\n",
       "      <td>0.028051</td>\n",
       "    </tr>\n",
       "    <tr>\n",
       "      <th>8096</th>\n",
       "      <td>0.072370</td>\n",
       "      <td>0.055556</td>\n",
       "      <td>0.222222</td>\n",
       "      <td>0.020477</td>\n",
       "    </tr>\n",
       "    <tr>\n",
       "      <th>95</th>\n",
       "      <td>0.358415</td>\n",
       "      <td>0.333333</td>\n",
       "      <td>0.555556</td>\n",
       "      <td>0.017081</td>\n",
       "    </tr>\n",
       "    <tr>\n",
       "      <th>4969</th>\n",
       "      <td>0.132214</td>\n",
       "      <td>0.111111</td>\n",
       "      <td>0.111111</td>\n",
       "      <td>0.039345</td>\n",
       "    </tr>\n",
       "  </tbody>\n",
       "</table>\n",
       "</div>"
      ],
      "text/plain": [
       "       calculatedfinishedsquarefeet  bathroomcnt  bedroomcnt  \\\n",
       "13876                      0.261459     0.388889    0.333333   \n",
       "6471                       0.134348     0.111111    0.333333   \n",
       "8096                       0.072370     0.055556    0.222222   \n",
       "95                         0.358415     0.333333    0.555556   \n",
       "4969                       0.132214     0.111111    0.111111   \n",
       "\n",
       "       taxvaluedollarcnt  \n",
       "13876           0.020078  \n",
       "6471            0.028051  \n",
       "8096            0.020477  \n",
       "95              0.017081  \n",
       "4969            0.039345  "
      ]
     },
     "execution_count": 46,
     "metadata": {},
     "output_type": "execute_result"
    }
   ],
   "source": [
    "validate_scaled.head()"
   ]
  },
  {
   "cell_type": "code",
   "execution_count": 47,
   "metadata": {},
   "outputs": [
    {
     "data": {
      "text/html": [
       "<div>\n",
       "<style scoped>\n",
       "    .dataframe tbody tr th:only-of-type {\n",
       "        vertical-align: middle;\n",
       "    }\n",
       "\n",
       "    .dataframe tbody tr th {\n",
       "        vertical-align: top;\n",
       "    }\n",
       "\n",
       "    .dataframe thead th {\n",
       "        text-align: right;\n",
       "    }\n",
       "</style>\n",
       "<table border=\"1\" class=\"dataframe\">\n",
       "  <thead>\n",
       "    <tr style=\"text-align: right;\">\n",
       "      <th></th>\n",
       "      <th>calculatedfinishedsquarefeet</th>\n",
       "      <th>bathroomcnt</th>\n",
       "      <th>bedroomcnt</th>\n",
       "      <th>taxvaluedollarcnt</th>\n",
       "    </tr>\n",
       "  </thead>\n",
       "  <tbody>\n",
       "    <tr>\n",
       "      <th>18614</th>\n",
       "      <td>0.147152</td>\n",
       "      <td>0.222222</td>\n",
       "      <td>0.333333</td>\n",
       "      <td>0.038559</td>\n",
       "    </tr>\n",
       "    <tr>\n",
       "      <th>17346</th>\n",
       "      <td>0.047783</td>\n",
       "      <td>0.000000</td>\n",
       "      <td>0.111111</td>\n",
       "      <td>0.003003</td>\n",
       "    </tr>\n",
       "    <tr>\n",
       "      <th>7558</th>\n",
       "      <td>0.096957</td>\n",
       "      <td>0.166667</td>\n",
       "      <td>0.222222</td>\n",
       "      <td>0.011701</td>\n",
       "    </tr>\n",
       "    <tr>\n",
       "      <th>8780</th>\n",
       "      <td>0.142605</td>\n",
       "      <td>0.111111</td>\n",
       "      <td>0.222222</td>\n",
       "      <td>0.029557</td>\n",
       "    </tr>\n",
       "    <tr>\n",
       "      <th>8940</th>\n",
       "      <td>0.121451</td>\n",
       "      <td>0.111111</td>\n",
       "      <td>0.222222</td>\n",
       "      <td>0.016871</td>\n",
       "    </tr>\n",
       "  </tbody>\n",
       "</table>\n",
       "</div>"
      ],
      "text/plain": [
       "       calculatedfinishedsquarefeet  bathroomcnt  bedroomcnt  \\\n",
       "18614                      0.147152     0.222222    0.333333   \n",
       "17346                      0.047783     0.000000    0.111111   \n",
       "7558                       0.096957     0.166667    0.222222   \n",
       "8780                       0.142605     0.111111    0.222222   \n",
       "8940                       0.121451     0.111111    0.222222   \n",
       "\n",
       "       taxvaluedollarcnt  \n",
       "18614           0.038559  \n",
       "17346           0.003003  \n",
       "7558            0.011701  \n",
       "8780            0.029557  \n",
       "8940            0.016871  "
      ]
     },
     "execution_count": 47,
     "metadata": {},
     "output_type": "execute_result"
    }
   ],
   "source": [
    "test_scaled.head()"
   ]
  },
  {
   "cell_type": "markdown",
   "metadata": {},
   "source": [
    "## Modeling\n",
    "- MVP:\n",
    "    - X: `'calculatedfinishedsquarefeet'`, `'bathroomcnt'`, `'bedroomcnt'`\n",
    "    - y:  `taxvaluedollarcnt`"
   ]
  },
  {
   "cell_type": "code",
   "execution_count": 48,
   "metadata": {},
   "outputs": [],
   "source": [
    "# Create X and y\n",
    "\n",
    "X_train_scaled = train_scaled[['calculatedfinishedsquarefeet', 'bathroomcnt', 'bedroomcnt']]\n",
    "y_train_scaled = train_scaled['taxvaluedollarcnt']"
   ]
  },
  {
   "cell_type": "markdown",
   "metadata": {},
   "source": [
    "### Setting up a Baseline"
   ]
  },
  {
   "cell_type": "code",
   "execution_count": 49,
   "metadata": {},
   "outputs": [
    {
     "data": {
      "text/plain": [
       "(0.021679118375542906, 0.015692126737139968)"
      ]
     },
     "execution_count": 49,
     "metadata": {},
     "output_type": "execute_result"
    }
   ],
   "source": [
    "mean, median = train_scaled.taxvaluedollarcnt.agg(['mean', 'median'])\n",
    "mean, median "
   ]
  },
  {
   "cell_type": "code",
   "execution_count": 50,
   "metadata": {},
   "outputs": [
    {
     "data": {
      "text/plain": [
       "(array([0.02167912, 0.02167912, 0.02167912, 0.02167912, 0.02167912]), 14518)"
      ]
     },
     "execution_count": 50,
     "metadata": {},
     "output_type": "execute_result"
    }
   ],
   "source": [
    "# Create an array of baseline predictions using mean\n",
    "\n",
    "baseline = np.array([mean]*train_scaled.shape[0])\n",
    "baseline[:5], len(baseline)"
   ]
  },
  {
   "cell_type": "code",
   "execution_count": 51,
   "metadata": {},
   "outputs": [
    {
     "data": {
      "text/plain": [
       "11.533542707108785"
      ]
     },
     "execution_count": 51,
     "metadata": {},
     "output_type": "execute_result"
    }
   ],
   "source": [
    "# Compute baseline sse\n",
    "\n",
    "baseline_residual = y_train_scaled - mean\n",
    "baseline_sse = (baseline_residual**2).sum()\n",
    "baseline_sse"
   ]
  },
  {
   "cell_type": "code",
   "execution_count": 52,
   "metadata": {},
   "outputs": [
    {
     "data": {
      "text/plain": [
       "0.0007944305487745409"
      ]
     },
     "execution_count": 52,
     "metadata": {},
     "output_type": "execute_result"
    }
   ],
   "source": [
    "# Compute baseline mse\n",
    "\n",
    "baseline_mse = baseline_sse/train_scaled.shape[0]\n",
    "baseline_mse"
   ]
  },
  {
   "cell_type": "code",
   "execution_count": 53,
   "metadata": {},
   "outputs": [
    {
     "data": {
      "text/plain": [
       "0.00039721527438727047"
      ]
     },
     "execution_count": 53,
     "metadata": {},
     "output_type": "execute_result"
    }
   ],
   "source": [
    "# Compute baseline rmse\n",
    "\n",
    "baseline_rmse = mean_squared_error(y_train_scaled, baseline)**1/2\n",
    "baseline_rmse"
   ]
  },
  {
   "cell_type": "markdown",
   "metadata": {},
   "source": [
    "Note: These error values are small in magnitude because the target variable has been scaled by a min-max scaler. We will also use a scaled target when evaluating our model, so the relative difference in the error between the model and the baseline will still be preserved. "
   ]
  },
  {
   "cell_type": "markdown",
   "metadata": {},
   "source": [
    "## Test 3 Different Algorithms for MVP\n",
    "- LinearRegression\n",
    "- LassoLars\n",
    "- PolynomialFeatures + LinearRegression (2nd degree)\n",
    "\n",
    "### Linear Regression"
   ]
  },
  {
   "cell_type": "code",
   "execution_count": 54,
   "metadata": {},
   "outputs": [
    {
     "data": {
      "text/plain": [
       "0.00024919734598661327"
      ]
     },
     "execution_count": 54,
     "metadata": {},
     "output_type": "execute_result"
    }
   ],
   "source": [
    "# Create, fit, predict and calculate the lm_rmse\n",
    "\n",
    "lm = LinearRegression(normalize=True)\n",
    "lm.fit(X_train_scaled, y_train_scaled)\n",
    "lm_pred = lm.predict(X_train_scaled)\n",
    "lm_rmse = mean_squared_error(y_train_scaled, lm_pred)**1/2\n",
    "\n",
    "lm_rmse"
   ]
  },
  {
   "cell_type": "code",
   "execution_count": 57,
   "metadata": {},
   "outputs": [
    {
     "data": {
      "text/plain": [
       "True"
      ]
     },
     "execution_count": 57,
     "metadata": {},
     "output_type": "execute_result"
    }
   ],
   "source": [
    "# Does the model outperform baseline?\n",
    "lm_rmse < baseline_rmse"
   ]
  },
  {
   "cell_type": "markdown",
   "metadata": {},
   "source": [
    "### LassoLars"
   ]
  },
  {
   "cell_type": "code",
   "execution_count": 55,
   "metadata": {},
   "outputs": [
    {
     "data": {
      "text/plain": [
       "0.0003972152743872705"
      ]
     },
     "execution_count": 55,
     "metadata": {},
     "output_type": "execute_result"
    }
   ],
   "source": [
    "# Create, fit, predict and calculate the lars_rmse\n",
    "\n",
    "lars = LassoLars(alpha=0.1)\n",
    "lars.fit(X_train_scaled, y_train_scaled)\n",
    "lars_pred = lars.predict(X_train_scaled)\n",
    "lars_rmse = mean_squared_error(y_train_scaled, lars_pred)**1/2\n",
    "\n",
    "lars_rmse"
   ]
  },
  {
   "cell_type": "code",
   "execution_count": 58,
   "metadata": {},
   "outputs": [
    {
     "data": {
      "text/plain": [
       "False"
      ]
     },
     "execution_count": 58,
     "metadata": {},
     "output_type": "execute_result"
    }
   ],
   "source": [
    "# Does the model outperform baseline?\n",
    "lars_rmse < baseline_rmse"
   ]
  },
  {
   "cell_type": "markdown",
   "metadata": {},
   "source": [
    "### PolynomialFeatures + LinearRegression\n",
    "2nd degress polynomial"
   ]
  },
  {
   "cell_type": "code",
   "execution_count": 56,
   "metadata": {},
   "outputs": [
    {
     "data": {
      "text/plain": [
       "0.00023320393387132827"
      ]
     },
     "execution_count": 56,
     "metadata": {},
     "output_type": "execute_result"
    }
   ],
   "source": [
    "pf = PolynomialFeatures(degree=2)\n",
    "X_train_scaled_squared = pf.fit_transform(X_train_scaled)\n",
    "\n",
    "lm_squared = LinearRegression()\n",
    "lm_squared.fit(X_train_scaled_squared, y_train_scaled)\n",
    "lm_squared_pred = lm_squared.predict(X_train_scaled_squared)\n",
    "\n",
    "lm_squared_rmse = mean_squared_error(y_train_scaled, lm_squared_pred)**1/2\n",
    "lm_squared_rmse"
   ]
  },
  {
   "cell_type": "code",
   "execution_count": 59,
   "metadata": {},
   "outputs": [
    {
     "data": {
      "text/plain": [
       "True"
      ]
     },
     "execution_count": 59,
     "metadata": {},
     "output_type": "execute_result"
    }
   ],
   "source": [
    "# Does the model outperform baseline?\n",
    "lm_squared_rmse < baseline_rmse"
   ]
  },
  {
   "cell_type": "markdown",
   "metadata": {},
   "source": [
    "#### Takeaways:\n",
    "- LinearRegression and LinearRegression with Polynomial Features outperform LassoLars\n",
    "- LassoLars does not outperform our baseline"
   ]
  },
  {
   "cell_type": "markdown",
   "metadata": {},
   "source": [
    "## Validate top 2 algorithms for MVP\n",
    "- LinearRegression\n",
    "- PolynomialFeatures + LinearRegression (2nd degree)"
   ]
  },
  {
   "cell_type": "code",
   "execution_count": 60,
   "metadata": {},
   "outputs": [],
   "source": [
    "# Create X and y\n",
    "\n",
    "X_validate_scaled = validate_scaled[['calculatedfinishedsquarefeet', 'bathroomcnt', 'bedroomcnt']]\n",
    "y_validate_scaled = validate_scaled['taxvaluedollarcnt']"
   ]
  },
  {
   "cell_type": "code",
   "execution_count": 62,
   "metadata": {},
   "outputs": [
    {
     "data": {
      "text/html": [
       "<div>\n",
       "<style scoped>\n",
       "    .dataframe tbody tr th:only-of-type {\n",
       "        vertical-align: middle;\n",
       "    }\n",
       "\n",
       "    .dataframe tbody tr th {\n",
       "        vertical-align: top;\n",
       "    }\n",
       "\n",
       "    .dataframe thead th {\n",
       "        text-align: right;\n",
       "    }\n",
       "</style>\n",
       "<table border=\"1\" class=\"dataframe\">\n",
       "  <thead>\n",
       "    <tr style=\"text-align: right;\">\n",
       "      <th></th>\n",
       "      <th>calculatedfinishedsquarefeet</th>\n",
       "      <th>bathroomcnt</th>\n",
       "      <th>bedroomcnt</th>\n",
       "    </tr>\n",
       "  </thead>\n",
       "  <tbody>\n",
       "    <tr>\n",
       "      <th>13876</th>\n",
       "      <td>0.261459</td>\n",
       "      <td>0.388889</td>\n",
       "      <td>0.333333</td>\n",
       "    </tr>\n",
       "    <tr>\n",
       "      <th>6471</th>\n",
       "      <td>0.134348</td>\n",
       "      <td>0.111111</td>\n",
       "      <td>0.333333</td>\n",
       "    </tr>\n",
       "    <tr>\n",
       "      <th>8096</th>\n",
       "      <td>0.072370</td>\n",
       "      <td>0.055556</td>\n",
       "      <td>0.222222</td>\n",
       "    </tr>\n",
       "    <tr>\n",
       "      <th>95</th>\n",
       "      <td>0.358415</td>\n",
       "      <td>0.333333</td>\n",
       "      <td>0.555556</td>\n",
       "    </tr>\n",
       "    <tr>\n",
       "      <th>4969</th>\n",
       "      <td>0.132214</td>\n",
       "      <td>0.111111</td>\n",
       "      <td>0.111111</td>\n",
       "    </tr>\n",
       "  </tbody>\n",
       "</table>\n",
       "</div>"
      ],
      "text/plain": [
       "       calculatedfinishedsquarefeet  bathroomcnt  bedroomcnt\n",
       "13876                      0.261459     0.388889    0.333333\n",
       "6471                       0.134348     0.111111    0.333333\n",
       "8096                       0.072370     0.055556    0.222222\n",
       "95                         0.358415     0.333333    0.555556\n",
       "4969                       0.132214     0.111111    0.111111"
      ]
     },
     "execution_count": 62,
     "metadata": {},
     "output_type": "execute_result"
    }
   ],
   "source": [
    "X_validate_scaled.head()"
   ]
  },
  {
   "cell_type": "code",
   "execution_count": 63,
   "metadata": {},
   "outputs": [
    {
     "data": {
      "text/plain": [
       "13876    0.020078\n",
       "6471     0.028051\n",
       "8096     0.020477\n",
       "95       0.017081\n",
       "4969     0.039345\n",
       "Name: taxvaluedollarcnt, dtype: float64"
      ]
     },
     "execution_count": 63,
     "metadata": {},
     "output_type": "execute_result"
    }
   ],
   "source": [
    "y_validate_scaled.head()"
   ]
  },
  {
   "cell_type": "markdown",
   "metadata": {},
   "source": [
    "### LinearRegression"
   ]
  },
  {
   "cell_type": "code",
   "execution_count": 64,
   "metadata": {},
   "outputs": [
    {
     "data": {
      "text/plain": [
       "LinearRegression(copy_X=True, fit_intercept=True, n_jobs=None, normalize=True)"
      ]
     },
     "execution_count": 64,
     "metadata": {},
     "output_type": "execute_result"
    }
   ],
   "source": [
    "lm"
   ]
  },
  {
   "cell_type": "code",
   "execution_count": 65,
   "metadata": {},
   "outputs": [
    {
     "data": {
      "text/plain": [
       "0.000344478679726347"
      ]
     },
     "execution_count": 65,
     "metadata": {},
     "output_type": "execute_result"
    }
   ],
   "source": [
    "lm_pred = lm.predict(X_validate_scaled)\n",
    "lm_rmse = mean_squared_error(y_validate_scaled, lm_pred)**1/2\n",
    "\n",
    "lm_rmse"
   ]
  },
  {
   "cell_type": "markdown",
   "metadata": {},
   "source": [
    "#### Takeaway:\n",
    "- When the model is used on validate, the overall error increases, but it is still below the error of the baseline on train"
   ]
  },
  {
   "cell_type": "markdown",
   "metadata": {},
   "source": [
    "### LinearRegression + Polynomial Features"
   ]
  },
  {
   "cell_type": "code",
   "execution_count": 66,
   "metadata": {},
   "outputs": [
    {
     "data": {
      "text/plain": [
       "PolynomialFeatures(degree=2, include_bias=True, interaction_only=False,\n",
       "                   order='C')"
      ]
     },
     "execution_count": 66,
     "metadata": {},
     "output_type": "execute_result"
    }
   ],
   "source": [
    "pf"
   ]
  },
  {
   "cell_type": "code",
   "execution_count": 67,
   "metadata": {},
   "outputs": [
    {
     "data": {
      "text/plain": [
       "0.00030490635693139126"
      ]
     },
     "execution_count": 67,
     "metadata": {},
     "output_type": "execute_result"
    }
   ],
   "source": [
    "X_validate_scaled_squared = pf.transform(X_validate_scaled)\n",
    "lm_squared_pred = lm_squared.predict(X_validate_scaled_squared)\n",
    "\n",
    "lm_squared_rmse = mean_squared_error(y_validate_scaled, lm_squared_pred)**1/2\n",
    "lm_squared_rmse"
   ]
  },
  {
   "cell_type": "markdown",
   "metadata": {},
   "source": [
    "#### Takeaway:\n",
    "- When the model is used on validate, the overall error increases, but it is still below the error of the baseline on train\n",
    "- This model is still outperforming our Linear Regression model"
   ]
  },
  {
   "cell_type": "code",
   "execution_count": null,
   "metadata": {},
   "outputs": [],
   "source": []
  }
 ],
 "metadata": {
  "kernelspec": {
   "display_name": "Python 3",
   "language": "python",
   "name": "python3"
  },
  "language_info": {
   "codemirror_mode": {
    "name": "ipython",
    "version": 3
   },
   "file_extension": ".py",
   "mimetype": "text/x-python",
   "name": "python",
   "nbconvert_exporter": "python",
   "pygments_lexer": "ipython3",
   "version": "3.7.6"
  }
 },
 "nbformat": 4,
 "nbformat_minor": 4
}
